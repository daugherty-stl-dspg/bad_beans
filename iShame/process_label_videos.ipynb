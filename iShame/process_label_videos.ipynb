{
 "cells": [
  {
   "cell_type": "markdown",
   "metadata": {},
   "source": [
    "# iShame Coffee Video Pre-Processing\n",
    "\n",
    "This notebook walks through the process to prepare training and test data for the iShame CNN model. Training data consists of videos of coffee pots in various states of fullness. Videos are decomposed in to invidual frames and associated with the appropriate label. Data is then split in to train and test sets, and saved in h5 format."
   ]
  },
  {
   "cell_type": "code",
   "execution_count": 6,
   "metadata": {},
   "outputs": [],
   "source": [
    "import os\n",
    "import glob\n",
    "import json\n",
    "import numpy as np\n",
    "from sklearn.model_selection import train_test_split\n",
    "from matplotlib import pyplot as plt\n",
    "import h5py\n",
    "import cv2\n",
    "from random import randint"
   ]
  },
  {
   "cell_type": "markdown",
   "metadata": {},
   "source": [
    "First, we retrieve the set of videos in the input folder, which are saved with their class label. We create a dictionary assocating the file path to the video with the appropriate label. Then, we use build a dictionary to label encode the possible classes. We also set a flag for whether the expected values are one-hot encoded classes or the range of coffee pot fullness (0.0 - 1.0)."
   ]
  },
  {
   "cell_type": "code",
   "execution_count": 7,
   "metadata": {},
   "outputs": [],
   "source": [
    "is_regression = False\n"
   ]
  },
  {
   "cell_type": "code",
   "execution_count": 8,
   "metadata": {
    "tags": []
   },
   "outputs": [
    {
     "output_type": "stream",
     "name": "stdout",
     "text": "['0.0', '0.25', '0.291', '0.458333', '0.625', '0.8333']\n"
    }
   ],
   "source": [
    "video_dir = '/c/Users/rrr0901/Documents/Workspace/iShame/data/coffee_video/raw/v2'\n",
    "videos = []\n",
    "labels = set()\n",
    "for video in glob.glob(os.path.join(video_dir,\"*.mp4\")):\n",
    "    label = os.path.splitext(os.path.basename(video))[0]\n",
    "    path = video\n",
    "    videos.append({\"label\": label, \"path\": path})\n",
    "    labels.add(label)\n",
    "\n",
    "labels = sorted(labels)\n",
    "label_dict = {idx:label for idx,label in enumerate(labels)}\n",
    "reverse_label_dict = {label:idx for idx,label in enumerate(labels)}\n",
    "print(labels)"
   ]
  },
  {
   "cell_type": "markdown",
   "metadata": {},
   "source": [
    "For each video, we decompose it in to its individual frames. For each frame, we load it as a numpy array using OpenCV, then resize it. Then, we attach the numpy array and the label to the image_data and image_labels arrays. Image data is also normalized in this step.\n",
    "\n",
    "All frame pre-processing would occur in this step. Potential transformations that we are considering include conversion to HSV color space (instead of RGB), resizing, adding noise, etc."
   ]
  },
  {
   "cell_type": "code",
   "execution_count": 9,
   "metadata": {
    "tags": []
   },
   "outputs": [],
   "source": [
    "import preprocess_images\n",
    "\n",
    "def process_videos(videos, image_data, image_labels):\n",
    "\n",
    "    for video in videos:\n",
    "\n",
    "        vidcap = cv2.VideoCapture(video['path'])\n",
    "        label = video['label']\n",
    "        label_enc = reverse_label_dict[label]\n",
    "\n",
    "        count = 0\n",
    "        save_every_n = 1\n",
    "    \n",
    "        success, image = vidcap.read()\n",
    "\n",
    "        while success:\n",
    "\n",
    "            if count % save_every_n == 0:\n",
    "                \n",
    "                image = preprocess_images.preprocess_image(image)\n",
    "\n",
    "                image_data.append(image)\n",
    "\n",
    "                if(is_regression):\n",
    "                    image_labels.append(float(label))\n",
    "                else:\n",
    "                    image_labels.append(label_enc)\n",
    "    \n",
    "            count += 1\n",
    "            success, image = vidcap.read()\n",
    "\n"
   ]
  },
  {
   "cell_type": "code",
   "execution_count": 10,
   "metadata": {},
   "outputs": [],
   "source": [
    "image_data = []\n",
    "image_labels = []\n",
    "\n",
    "process_videos(videos, image_data, image_labels)"
   ]
  },
  {
   "cell_type": "markdown",
   "metadata": {},
   "source": [
    "Let's check the dimensions of our image data and labels. Each image has the dimensions (height, width, channels)."
   ]
  },
  {
   "cell_type": "code",
   "execution_count": 12,
   "metadata": {
    "tags": []
   },
   "outputs": [
    {
     "output_type": "stream",
     "name": "stdout",
     "text": "Image Data Examples: 2310\nNumber of Image Labels: 2310\nImage Dimensions: (540, 960, 3)\nLast Image: [[[0.42352941 0.45882353 0.45490196]\n  [0.42352941 0.45882353 0.45490196]\n  [0.42352941 0.45098039 0.44705882]\n  ...\n  [0.34117647 0.47058824 0.58431373]\n  [0.32941176 0.45882353 0.57254902]\n  [0.3254902  0.45490196 0.56862745]]\n\n [[0.41568627 0.45098039 0.44705882]\n  [0.41568627 0.45098039 0.44705882]\n  [0.41960784 0.44705882 0.44313725]\n  ...\n  [0.3372549  0.46666667 0.58039216]\n  [0.32156863 0.45098039 0.56470588]\n  [0.32156863 0.45098039 0.56470588]]\n\n [[0.41960784 0.45490196 0.45098039]\n  [0.41568627 0.45098039 0.44705882]\n  [0.41960784 0.44705882 0.44313725]\n  ...\n  [0.33333333 0.4627451  0.57647059]\n  [0.32941176 0.45882353 0.57254902]\n  [0.32941176 0.45882353 0.57254902]]\n\n ...\n\n [[0.2        0.19215686 0.16862745]\n  [0.18823529 0.18039216 0.15686275]\n  [0.18039216 0.17254902 0.14901961]\n  ...\n  [0.21568627 0.35294118 0.50196078]\n  [0.22352941 0.36078431 0.50980392]\n  [0.22745098 0.36470588 0.51372549]]\n\n [[0.20784314 0.2        0.17647059]\n  [0.19607843 0.18823529 0.16470588]\n  [0.20784314 0.2        0.17647059]\n  ...\n  [0.20784314 0.3254902  0.49803922]\n  [0.20784314 0.3254902  0.49803922]\n  [0.21568627 0.33333333 0.50588235]]\n\n [[0.21568627 0.20784314 0.18039216]\n  [0.20392157 0.19607843 0.17254902]\n  [0.21176471 0.20392157 0.18039216]\n  ...\n  [0.20392157 0.31764706 0.48235294]\n  [0.20784314 0.31764706 0.49019608]\n  [0.20392157 0.32156863 0.49411765]]]\nLast Image Label: 5\n"
    }
   ],
   "source": [
    "print(\"Image Data Examples:\",len(image_data))\n",
    "print(\"Number of Image Labels:\",len(image_labels))\n",
    "print(\"Image Dimensions:\", image_data[0].shape)\n",
    "print(\"Last Image:\",image_data[-1])\n",
    "print(\"Last Image Label:\",image_labels[-1])\n"
   ]
  },
  {
   "cell_type": "markdown",
   "metadata": {},
   "source": [
    "Let's look at a random image and its label."
   ]
  },
  {
   "cell_type": "code",
   "execution_count": 18,
   "metadata": {
    "tags": []
   },
   "outputs": [
    {
     "output_type": "stream",
     "name": "stderr",
     "text": "Clipping input data to the valid range for imshow with RGB data ([0..1] for floats or [0..255] for integers).\n(540, 960, 3)\n"
    },
    {
     "output_type": "execute_result",
     "data": {
      "text/plain": "<matplotlib.image.AxesImage at 0x7f8995c46be0>"
     },
     "metadata": {},
     "execution_count": 18
    },
    {
     "output_type": "display_data",
     "data": {
      "text/plain": "<Figure size 432x288 with 1 Axes>",
      "image/svg+xml": "<?xml version=\"1.0\" encoding=\"utf-8\" standalone=\"no\"?>\n<!DOCTYPE svg PUBLIC \"-//W3C//DTD SVG 1.1//EN\"\n  \"http://www.w3.org/Graphics/SVG/1.1/DTD/svg11.dtd\">\n<!-- Created with matplotlib (https://matplotlib.org/) -->\n<svg height=\"234.52125pt\" version=\"1.1\" viewBox=\"0 0 375.2875 234.52125\" width=\"375.2875pt\" xmlns=\"http://www.w3.org/2000/svg\" xmlns:xlink=\"http://www.w3.org/1999/xlink\">\n <defs>\n  <style type=\"text/css\">\n*{stroke-linecap:butt;stroke-linejoin:round;}\n  </style>\n </defs>\n <g id=\"figure_1\">\n  <g id=\"patch_1\">\n   <path d=\"M 0 234.52125 \nL 375.2875 234.52125 \nL 375.2875 0 \nL 0 0 \nz\n\" style=\"fill:none;\"/>\n  </g>\n  <g id=\"axes_1\">\n   <g id=\"patch_2\">\n    <path d=\"M 33.2875 210.643125 \nL 368.0875 210.643125 \nL 368.0875 22.318125 \nL 33.2875 22.318125 \nz\n\" style=\"fill:#ffffff;\"/>\n   </g>\n   <g clip-path=\"url(#p53bd43a996)\">\n    <image height=\"189\" id=\"image9d61abbeee\" transform=\"scale(1 -1)translate(0 -189)\" width=\"335\" x=\"33.2875\" xlink:href=\"data:image/png;base64,\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\" y=\"-21.643125\"/>\n   </g>\n   <g id=\"matplotlib.axis_1\">\n    <g id=\"xtick_1\">\n     <g id=\"line2d_1\">\n      <defs>\n       <path d=\"M 0 0 \nL 0 3.5 \n\" id=\"mfa109ee293\" style=\"stroke:#000000;stroke-width:0.8;\"/>\n      </defs>\n      <g>\n       <use style=\"stroke:#000000;stroke-width:0.8;\" x=\"33.461875\" xlink:href=\"#mfa109ee293\" y=\"210.643125\"/>\n      </g>\n     </g>\n     <g id=\"text_1\">\n      <!-- 0 -->\n      <defs>\n       <path d=\"M 31.78125 66.40625 \nQ 24.171875 66.40625 20.328125 58.90625 \nQ 16.5 51.421875 16.5 36.375 \nQ 16.5 21.390625 20.328125 13.890625 \nQ 24.171875 6.390625 31.78125 6.390625 \nQ 39.453125 6.390625 43.28125 13.890625 \nQ 47.125 21.390625 47.125 36.375 \nQ 47.125 51.421875 43.28125 58.90625 \nQ 39.453125 66.40625 31.78125 66.40625 \nz\nM 31.78125 74.21875 \nQ 44.046875 74.21875 50.515625 64.515625 \nQ 56.984375 54.828125 56.984375 36.375 \nQ 56.984375 17.96875 50.515625 8.265625 \nQ 44.046875 -1.421875 31.78125 -1.421875 \nQ 19.53125 -1.421875 13.0625 8.265625 \nQ 6.59375 17.96875 6.59375 36.375 \nQ 6.59375 54.828125 13.0625 64.515625 \nQ 19.53125 74.21875 31.78125 74.21875 \nz\n\" id=\"DejaVuSans-48\"/>\n      </defs>\n      <g transform=\"translate(30.280625 225.241563)scale(0.1 -0.1)\">\n       <use xlink:href=\"#DejaVuSans-48\"/>\n      </g>\n     </g>\n    </g>\n    <g id=\"xtick_2\">\n     <g id=\"line2d_2\">\n      <g>\n       <use style=\"stroke:#000000;stroke-width:0.8;\" x=\"103.211875\" xlink:href=\"#mfa109ee293\" y=\"210.643125\"/>\n      </g>\n     </g>\n     <g id=\"text_2\">\n      <!-- 200 -->\n      <defs>\n       <path d=\"M 19.1875 8.296875 \nL 53.609375 8.296875 \nL 53.609375 0 \nL 7.328125 0 \nL 7.328125 8.296875 \nQ 12.9375 14.109375 22.625 23.890625 \nQ 32.328125 33.6875 34.8125 36.53125 \nQ 39.546875 41.84375 41.421875 45.53125 \nQ 43.3125 49.21875 43.3125 52.78125 \nQ 43.3125 58.59375 39.234375 62.25 \nQ 35.15625 65.921875 28.609375 65.921875 \nQ 23.96875 65.921875 18.8125 64.3125 \nQ 13.671875 62.703125 7.8125 59.421875 \nL 7.8125 69.390625 \nQ 13.765625 71.78125 18.9375 73 \nQ 24.125 74.21875 28.421875 74.21875 \nQ 39.75 74.21875 46.484375 68.546875 \nQ 53.21875 62.890625 53.21875 53.421875 \nQ 53.21875 48.921875 51.53125 44.890625 \nQ 49.859375 40.875 45.40625 35.40625 \nQ 44.1875 33.984375 37.640625 27.21875 \nQ 31.109375 20.453125 19.1875 8.296875 \nz\n\" id=\"DejaVuSans-50\"/>\n      </defs>\n      <g transform=\"translate(93.668125 225.241563)scale(0.1 -0.1)\">\n       <use xlink:href=\"#DejaVuSans-50\"/>\n       <use x=\"63.623047\" xlink:href=\"#DejaVuSans-48\"/>\n       <use x=\"127.246094\" xlink:href=\"#DejaVuSans-48\"/>\n      </g>\n     </g>\n    </g>\n    <g id=\"xtick_3\">\n     <g id=\"line2d_3\">\n      <g>\n       <use style=\"stroke:#000000;stroke-width:0.8;\" x=\"172.961875\" xlink:href=\"#mfa109ee293\" y=\"210.643125\"/>\n      </g>\n     </g>\n     <g id=\"text_3\">\n      <!-- 400 -->\n      <defs>\n       <path d=\"M 37.796875 64.3125 \nL 12.890625 25.390625 \nL 37.796875 25.390625 \nz\nM 35.203125 72.90625 \nL 47.609375 72.90625 \nL 47.609375 25.390625 \nL 58.015625 25.390625 \nL 58.015625 17.1875 \nL 47.609375 17.1875 \nL 47.609375 0 \nL 37.796875 0 \nL 37.796875 17.1875 \nL 4.890625 17.1875 \nL 4.890625 26.703125 \nz\n\" id=\"DejaVuSans-52\"/>\n      </defs>\n      <g transform=\"translate(163.418125 225.241563)scale(0.1 -0.1)\">\n       <use xlink:href=\"#DejaVuSans-52\"/>\n       <use x=\"63.623047\" xlink:href=\"#DejaVuSans-48\"/>\n       <use x=\"127.246094\" xlink:href=\"#DejaVuSans-48\"/>\n      </g>\n     </g>\n    </g>\n    <g id=\"xtick_4\">\n     <g id=\"line2d_4\">\n      <g>\n       <use style=\"stroke:#000000;stroke-width:0.8;\" x=\"242.711875\" xlink:href=\"#mfa109ee293\" y=\"210.643125\"/>\n      </g>\n     </g>\n     <g id=\"text_4\">\n      <!-- 600 -->\n      <defs>\n       <path d=\"M 33.015625 40.375 \nQ 26.375 40.375 22.484375 35.828125 \nQ 18.609375 31.296875 18.609375 23.390625 \nQ 18.609375 15.53125 22.484375 10.953125 \nQ 26.375 6.390625 33.015625 6.390625 \nQ 39.65625 6.390625 43.53125 10.953125 \nQ 47.40625 15.53125 47.40625 23.390625 \nQ 47.40625 31.296875 43.53125 35.828125 \nQ 39.65625 40.375 33.015625 40.375 \nz\nM 52.59375 71.296875 \nL 52.59375 62.3125 \nQ 48.875 64.0625 45.09375 64.984375 \nQ 41.3125 65.921875 37.59375 65.921875 \nQ 27.828125 65.921875 22.671875 59.328125 \nQ 17.53125 52.734375 16.796875 39.40625 \nQ 19.671875 43.65625 24.015625 45.921875 \nQ 28.375 48.1875 33.59375 48.1875 \nQ 44.578125 48.1875 50.953125 41.515625 \nQ 57.328125 34.859375 57.328125 23.390625 \nQ 57.328125 12.15625 50.6875 5.359375 \nQ 44.046875 -1.421875 33.015625 -1.421875 \nQ 20.359375 -1.421875 13.671875 8.265625 \nQ 6.984375 17.96875 6.984375 36.375 \nQ 6.984375 53.65625 15.1875 63.9375 \nQ 23.390625 74.21875 37.203125 74.21875 \nQ 40.921875 74.21875 44.703125 73.484375 \nQ 48.484375 72.75 52.59375 71.296875 \nz\n\" id=\"DejaVuSans-54\"/>\n      </defs>\n      <g transform=\"translate(233.168125 225.241563)scale(0.1 -0.1)\">\n       <use xlink:href=\"#DejaVuSans-54\"/>\n       <use x=\"63.623047\" xlink:href=\"#DejaVuSans-48\"/>\n       <use x=\"127.246094\" xlink:href=\"#DejaVuSans-48\"/>\n      </g>\n     </g>\n    </g>\n    <g id=\"xtick_5\">\n     <g id=\"line2d_5\">\n      <g>\n       <use style=\"stroke:#000000;stroke-width:0.8;\" x=\"312.461875\" xlink:href=\"#mfa109ee293\" y=\"210.643125\"/>\n      </g>\n     </g>\n     <g id=\"text_5\">\n      <!-- 800 -->\n      <defs>\n       <path d=\"M 31.78125 34.625 \nQ 24.75 34.625 20.71875 30.859375 \nQ 16.703125 27.09375 16.703125 20.515625 \nQ 16.703125 13.921875 20.71875 10.15625 \nQ 24.75 6.390625 31.78125 6.390625 \nQ 38.8125 6.390625 42.859375 10.171875 \nQ 46.921875 13.96875 46.921875 20.515625 \nQ 46.921875 27.09375 42.890625 30.859375 \nQ 38.875 34.625 31.78125 34.625 \nz\nM 21.921875 38.8125 \nQ 15.578125 40.375 12.03125 44.71875 \nQ 8.5 49.078125 8.5 55.328125 \nQ 8.5 64.0625 14.71875 69.140625 \nQ 20.953125 74.21875 31.78125 74.21875 \nQ 42.671875 74.21875 48.875 69.140625 \nQ 55.078125 64.0625 55.078125 55.328125 \nQ 55.078125 49.078125 51.53125 44.71875 \nQ 48 40.375 41.703125 38.8125 \nQ 48.828125 37.15625 52.796875 32.3125 \nQ 56.78125 27.484375 56.78125 20.515625 \nQ 56.78125 9.90625 50.3125 4.234375 \nQ 43.84375 -1.421875 31.78125 -1.421875 \nQ 19.734375 -1.421875 13.25 4.234375 \nQ 6.78125 9.90625 6.78125 20.515625 \nQ 6.78125 27.484375 10.78125 32.3125 \nQ 14.796875 37.15625 21.921875 38.8125 \nz\nM 18.3125 54.390625 \nQ 18.3125 48.734375 21.84375 45.5625 \nQ 25.390625 42.390625 31.78125 42.390625 \nQ 38.140625 42.390625 41.71875 45.5625 \nQ 45.3125 48.734375 45.3125 54.390625 \nQ 45.3125 60.0625 41.71875 63.234375 \nQ 38.140625 66.40625 31.78125 66.40625 \nQ 25.390625 66.40625 21.84375 63.234375 \nQ 18.3125 60.0625 18.3125 54.390625 \nz\n\" id=\"DejaVuSans-56\"/>\n      </defs>\n      <g transform=\"translate(302.918125 225.241563)scale(0.1 -0.1)\">\n       <use xlink:href=\"#DejaVuSans-56\"/>\n       <use x=\"63.623047\" xlink:href=\"#DejaVuSans-48\"/>\n       <use x=\"127.246094\" xlink:href=\"#DejaVuSans-48\"/>\n      </g>\n     </g>\n    </g>\n   </g>\n   <g id=\"matplotlib.axis_2\">\n    <g id=\"ytick_1\">\n     <g id=\"line2d_6\">\n      <defs>\n       <path d=\"M 0 0 \nL -3.5 0 \n\" id=\"m5aa6036393\" style=\"stroke:#000000;stroke-width:0.8;\"/>\n      </defs>\n      <g>\n       <use style=\"stroke:#000000;stroke-width:0.8;\" x=\"33.2875\" xlink:href=\"#m5aa6036393\" y=\"22.4925\"/>\n      </g>\n     </g>\n     <g id=\"text_6\">\n      <!-- 0 -->\n      <g transform=\"translate(19.925 26.291719)scale(0.1 -0.1)\">\n       <use xlink:href=\"#DejaVuSans-48\"/>\n      </g>\n     </g>\n    </g>\n    <g id=\"ytick_2\">\n     <g id=\"line2d_7\">\n      <g>\n       <use style=\"stroke:#000000;stroke-width:0.8;\" x=\"33.2875\" xlink:href=\"#m5aa6036393\" y=\"57.3675\"/>\n      </g>\n     </g>\n     <g id=\"text_7\">\n      <!-- 100 -->\n      <defs>\n       <path d=\"M 12.40625 8.296875 \nL 28.515625 8.296875 \nL 28.515625 63.921875 \nL 10.984375 60.40625 \nL 10.984375 69.390625 \nL 28.421875 72.90625 \nL 38.28125 72.90625 \nL 38.28125 8.296875 \nL 54.390625 8.296875 \nL 54.390625 0 \nL 12.40625 0 \nz\n\" id=\"DejaVuSans-49\"/>\n      </defs>\n      <g transform=\"translate(7.2 61.166719)scale(0.1 -0.1)\">\n       <use xlink:href=\"#DejaVuSans-49\"/>\n       <use x=\"63.623047\" xlink:href=\"#DejaVuSans-48\"/>\n       <use x=\"127.246094\" xlink:href=\"#DejaVuSans-48\"/>\n      </g>\n     </g>\n    </g>\n    <g id=\"ytick_3\">\n     <g id=\"line2d_8\">\n      <g>\n       <use style=\"stroke:#000000;stroke-width:0.8;\" x=\"33.2875\" xlink:href=\"#m5aa6036393\" y=\"92.2425\"/>\n      </g>\n     </g>\n     <g id=\"text_8\">\n      <!-- 200 -->\n      <g transform=\"translate(7.2 96.041719)scale(0.1 -0.1)\">\n       <use xlink:href=\"#DejaVuSans-50\"/>\n       <use x=\"63.623047\" xlink:href=\"#DejaVuSans-48\"/>\n       <use x=\"127.246094\" xlink:href=\"#DejaVuSans-48\"/>\n      </g>\n     </g>\n    </g>\n    <g id=\"ytick_4\">\n     <g id=\"line2d_9\">\n      <g>\n       <use style=\"stroke:#000000;stroke-width:0.8;\" x=\"33.2875\" xlink:href=\"#m5aa6036393\" y=\"127.1175\"/>\n      </g>\n     </g>\n     <g id=\"text_9\">\n      <!-- 300 -->\n      <defs>\n       <path d=\"M 40.578125 39.3125 \nQ 47.65625 37.796875 51.625 33 \nQ 55.609375 28.21875 55.609375 21.1875 \nQ 55.609375 10.40625 48.1875 4.484375 \nQ 40.765625 -1.421875 27.09375 -1.421875 \nQ 22.515625 -1.421875 17.65625 -0.515625 \nQ 12.796875 0.390625 7.625 2.203125 \nL 7.625 11.71875 \nQ 11.71875 9.328125 16.59375 8.109375 \nQ 21.484375 6.890625 26.8125 6.890625 \nQ 36.078125 6.890625 40.9375 10.546875 \nQ 45.796875 14.203125 45.796875 21.1875 \nQ 45.796875 27.640625 41.28125 31.265625 \nQ 36.765625 34.90625 28.71875 34.90625 \nL 20.21875 34.90625 \nL 20.21875 43.015625 \nL 29.109375 43.015625 \nQ 36.375 43.015625 40.234375 45.921875 \nQ 44.09375 48.828125 44.09375 54.296875 \nQ 44.09375 59.90625 40.109375 62.90625 \nQ 36.140625 65.921875 28.71875 65.921875 \nQ 24.65625 65.921875 20.015625 65.03125 \nQ 15.375 64.15625 9.8125 62.3125 \nL 9.8125 71.09375 \nQ 15.4375 72.65625 20.34375 73.4375 \nQ 25.25 74.21875 29.59375 74.21875 \nQ 40.828125 74.21875 47.359375 69.109375 \nQ 53.90625 64.015625 53.90625 55.328125 \nQ 53.90625 49.265625 50.4375 45.09375 \nQ 46.96875 40.921875 40.578125 39.3125 \nz\n\" id=\"DejaVuSans-51\"/>\n      </defs>\n      <g transform=\"translate(7.2 130.916719)scale(0.1 -0.1)\">\n       <use xlink:href=\"#DejaVuSans-51\"/>\n       <use x=\"63.623047\" xlink:href=\"#DejaVuSans-48\"/>\n       <use x=\"127.246094\" xlink:href=\"#DejaVuSans-48\"/>\n      </g>\n     </g>\n    </g>\n    <g id=\"ytick_5\">\n     <g id=\"line2d_10\">\n      <g>\n       <use style=\"stroke:#000000;stroke-width:0.8;\" x=\"33.2875\" xlink:href=\"#m5aa6036393\" y=\"161.9925\"/>\n      </g>\n     </g>\n     <g id=\"text_10\">\n      <!-- 400 -->\n      <g transform=\"translate(7.2 165.791719)scale(0.1 -0.1)\">\n       <use xlink:href=\"#DejaVuSans-52\"/>\n       <use x=\"63.623047\" xlink:href=\"#DejaVuSans-48\"/>\n       <use x=\"127.246094\" xlink:href=\"#DejaVuSans-48\"/>\n      </g>\n     </g>\n    </g>\n    <g id=\"ytick_6\">\n     <g id=\"line2d_11\">\n      <g>\n       <use style=\"stroke:#000000;stroke-width:0.8;\" x=\"33.2875\" xlink:href=\"#m5aa6036393\" y=\"196.8675\"/>\n      </g>\n     </g>\n     <g id=\"text_11\">\n      <!-- 500 -->\n      <defs>\n       <path d=\"M 10.796875 72.90625 \nL 49.515625 72.90625 \nL 49.515625 64.59375 \nL 19.828125 64.59375 \nL 19.828125 46.734375 \nQ 21.96875 47.46875 24.109375 47.828125 \nQ 26.265625 48.1875 28.421875 48.1875 \nQ 40.625 48.1875 47.75 41.5 \nQ 54.890625 34.8125 54.890625 23.390625 \nQ 54.890625 11.625 47.5625 5.09375 \nQ 40.234375 -1.421875 26.90625 -1.421875 \nQ 22.3125 -1.421875 17.546875 -0.640625 \nQ 12.796875 0.140625 7.71875 1.703125 \nL 7.71875 11.625 \nQ 12.109375 9.234375 16.796875 8.0625 \nQ 21.484375 6.890625 26.703125 6.890625 \nQ 35.15625 6.890625 40.078125 11.328125 \nQ 45.015625 15.765625 45.015625 23.390625 \nQ 45.015625 31 40.078125 35.4375 \nQ 35.15625 39.890625 26.703125 39.890625 \nQ 22.75 39.890625 18.8125 39.015625 \nQ 14.890625 38.140625 10.796875 36.28125 \nz\n\" id=\"DejaVuSans-53\"/>\n      </defs>\n      <g transform=\"translate(7.2 200.666719)scale(0.1 -0.1)\">\n       <use xlink:href=\"#DejaVuSans-53\"/>\n       <use x=\"63.623047\" xlink:href=\"#DejaVuSans-48\"/>\n       <use x=\"127.246094\" xlink:href=\"#DejaVuSans-48\"/>\n      </g>\n     </g>\n    </g>\n   </g>\n   <g id=\"patch_3\">\n    <path d=\"M 33.2875 210.643125 \nL 33.2875 22.318125 \n\" style=\"fill:none;stroke:#000000;stroke-linecap:square;stroke-linejoin:miter;stroke-width:0.8;\"/>\n   </g>\n   <g id=\"patch_4\">\n    <path d=\"M 368.0875 210.643125 \nL 368.0875 22.318125 \n\" style=\"fill:none;stroke:#000000;stroke-linecap:square;stroke-linejoin:miter;stroke-width:0.8;\"/>\n   </g>\n   <g id=\"patch_5\">\n    <path d=\"M 33.2875 210.643125 \nL 368.0875 210.643125 \n\" style=\"fill:none;stroke:#000000;stroke-linecap:square;stroke-linejoin:miter;stroke-width:0.8;\"/>\n   </g>\n   <g id=\"patch_6\">\n    <path d=\"M 33.2875 22.318125 \nL 368.0875 22.318125 \n\" style=\"fill:none;stroke:#000000;stroke-linecap:square;stroke-linejoin:miter;stroke-width:0.8;\"/>\n   </g>\n   <g id=\"text_12\">\n    <!-- Image #2171, Class Label=5 -->\n    <defs>\n     <path d=\"M 9.8125 72.90625 \nL 19.671875 72.90625 \nL 19.671875 0 \nL 9.8125 0 \nz\n\" id=\"DejaVuSans-73\"/>\n     <path d=\"M 52 44.1875 \nQ 55.375 50.25 60.0625 53.125 \nQ 64.75 56 71.09375 56 \nQ 79.640625 56 84.28125 50.015625 \nQ 88.921875 44.046875 88.921875 33.015625 \nL 88.921875 0 \nL 79.890625 0 \nL 79.890625 32.71875 \nQ 79.890625 40.578125 77.09375 44.375 \nQ 74.3125 48.1875 68.609375 48.1875 \nQ 61.625 48.1875 57.5625 43.546875 \nQ 53.515625 38.921875 53.515625 30.90625 \nL 53.515625 0 \nL 44.484375 0 \nL 44.484375 32.71875 \nQ 44.484375 40.625 41.703125 44.40625 \nQ 38.921875 48.1875 33.109375 48.1875 \nQ 26.21875 48.1875 22.15625 43.53125 \nQ 18.109375 38.875 18.109375 30.90625 \nL 18.109375 0 \nL 9.078125 0 \nL 9.078125 54.6875 \nL 18.109375 54.6875 \nL 18.109375 46.1875 \nQ 21.1875 51.21875 25.484375 53.609375 \nQ 29.78125 56 35.6875 56 \nQ 41.65625 56 45.828125 52.96875 \nQ 50 49.953125 52 44.1875 \nz\n\" id=\"DejaVuSans-109\"/>\n     <path d=\"M 34.28125 27.484375 \nQ 23.390625 27.484375 19.1875 25 \nQ 14.984375 22.515625 14.984375 16.5 \nQ 14.984375 11.71875 18.140625 8.90625 \nQ 21.296875 6.109375 26.703125 6.109375 \nQ 34.1875 6.109375 38.703125 11.40625 \nQ 43.21875 16.703125 43.21875 25.484375 \nL 43.21875 27.484375 \nz\nM 52.203125 31.203125 \nL 52.203125 0 \nL 43.21875 0 \nL 43.21875 8.296875 \nQ 40.140625 3.328125 35.546875 0.953125 \nQ 30.953125 -1.421875 24.3125 -1.421875 \nQ 15.921875 -1.421875 10.953125 3.296875 \nQ 6 8.015625 6 15.921875 \nQ 6 25.140625 12.171875 29.828125 \nQ 18.359375 34.515625 30.609375 34.515625 \nL 43.21875 34.515625 \nL 43.21875 35.40625 \nQ 43.21875 41.609375 39.140625 45 \nQ 35.0625 48.390625 27.6875 48.390625 \nQ 23 48.390625 18.546875 47.265625 \nQ 14.109375 46.140625 10.015625 43.890625 \nL 10.015625 52.203125 \nQ 14.9375 54.109375 19.578125 55.046875 \nQ 24.21875 56 28.609375 56 \nQ 40.484375 56 46.34375 49.84375 \nQ 52.203125 43.703125 52.203125 31.203125 \nz\n\" id=\"DejaVuSans-97\"/>\n     <path d=\"M 45.40625 27.984375 \nQ 45.40625 37.75 41.375 43.109375 \nQ 37.359375 48.484375 30.078125 48.484375 \nQ 22.859375 48.484375 18.828125 43.109375 \nQ 14.796875 37.75 14.796875 27.984375 \nQ 14.796875 18.265625 18.828125 12.890625 \nQ 22.859375 7.515625 30.078125 7.515625 \nQ 37.359375 7.515625 41.375 12.890625 \nQ 45.40625 18.265625 45.40625 27.984375 \nz\nM 54.390625 6.78125 \nQ 54.390625 -7.171875 48.1875 -13.984375 \nQ 42 -20.796875 29.203125 -20.796875 \nQ 24.46875 -20.796875 20.265625 -20.09375 \nQ 16.0625 -19.390625 12.109375 -17.921875 \nL 12.109375 -9.1875 \nQ 16.0625 -11.328125 19.921875 -12.34375 \nQ 23.78125 -13.375 27.78125 -13.375 \nQ 36.625 -13.375 41.015625 -8.765625 \nQ 45.40625 -4.15625 45.40625 5.171875 \nL 45.40625 9.625 \nQ 42.625 4.78125 38.28125 2.390625 \nQ 33.9375 0 27.875 0 \nQ 17.828125 0 11.671875 7.65625 \nQ 5.515625 15.328125 5.515625 27.984375 \nQ 5.515625 40.671875 11.671875 48.328125 \nQ 17.828125 56 27.875 56 \nQ 33.9375 56 38.28125 53.609375 \nQ 42.625 51.21875 45.40625 46.390625 \nL 45.40625 54.6875 \nL 54.390625 54.6875 \nz\n\" id=\"DejaVuSans-103\"/>\n     <path d=\"M 56.203125 29.59375 \nL 56.203125 25.203125 \nL 14.890625 25.203125 \nQ 15.484375 15.921875 20.484375 11.0625 \nQ 25.484375 6.203125 34.421875 6.203125 \nQ 39.59375 6.203125 44.453125 7.46875 \nQ 49.3125 8.734375 54.109375 11.28125 \nL 54.109375 2.78125 \nQ 49.265625 0.734375 44.1875 -0.34375 \nQ 39.109375 -1.421875 33.890625 -1.421875 \nQ 20.796875 -1.421875 13.15625 6.1875 \nQ 5.515625 13.8125 5.515625 26.8125 \nQ 5.515625 40.234375 12.765625 48.109375 \nQ 20.015625 56 32.328125 56 \nQ 43.359375 56 49.78125 48.890625 \nQ 56.203125 41.796875 56.203125 29.59375 \nz\nM 47.21875 32.234375 \nQ 47.125 39.59375 43.09375 43.984375 \nQ 39.0625 48.390625 32.421875 48.390625 \nQ 24.90625 48.390625 20.390625 44.140625 \nQ 15.875 39.890625 15.1875 32.171875 \nz\n\" id=\"DejaVuSans-101\"/>\n     <path id=\"DejaVuSans-32\"/>\n     <path d=\"M 51.125 44 \nL 36.921875 44 \nL 32.8125 27.6875 \nL 47.125 27.6875 \nz\nM 43.796875 71.78125 \nL 38.71875 51.515625 \nL 52.984375 51.515625 \nL 58.109375 71.78125 \nL 65.921875 71.78125 \nL 60.890625 51.515625 \nL 76.125 51.515625 \nL 76.125 44 \nL 58.984375 44 \nL 54.984375 27.6875 \nL 70.515625 27.6875 \nL 70.515625 20.21875 \nL 53.078125 20.21875 \nL 48 0 \nL 40.1875 0 \nL 45.21875 20.21875 \nL 30.90625 20.21875 \nL 25.875 0 \nL 18.015625 0 \nL 23.09375 20.21875 \nL 7.71875 20.21875 \nL 7.71875 27.6875 \nL 24.90625 27.6875 \nL 29 44 \nL 13.28125 44 \nL 13.28125 51.515625 \nL 30.90625 51.515625 \nL 35.890625 71.78125 \nz\n\" id=\"DejaVuSans-35\"/>\n     <path d=\"M 8.203125 72.90625 \nL 55.078125 72.90625 \nL 55.078125 68.703125 \nL 28.609375 0 \nL 18.3125 0 \nL 43.21875 64.59375 \nL 8.203125 64.59375 \nz\n\" id=\"DejaVuSans-55\"/>\n     <path d=\"M 11.71875 12.40625 \nL 22.015625 12.40625 \nL 22.015625 4 \nL 14.015625 -11.625 \nL 7.71875 -11.625 \nL 11.71875 4 \nz\n\" id=\"DejaVuSans-44\"/>\n     <path d=\"M 64.40625 67.28125 \nL 64.40625 56.890625 \nQ 59.421875 61.53125 53.78125 63.8125 \nQ 48.140625 66.109375 41.796875 66.109375 \nQ 29.296875 66.109375 22.65625 58.46875 \nQ 16.015625 50.828125 16.015625 36.375 \nQ 16.015625 21.96875 22.65625 14.328125 \nQ 29.296875 6.6875 41.796875 6.6875 \nQ 48.140625 6.6875 53.78125 8.984375 \nQ 59.421875 11.28125 64.40625 15.921875 \nL 64.40625 5.609375 \nQ 59.234375 2.09375 53.4375 0.328125 \nQ 47.65625 -1.421875 41.21875 -1.421875 \nQ 24.65625 -1.421875 15.125 8.703125 \nQ 5.609375 18.84375 5.609375 36.375 \nQ 5.609375 53.953125 15.125 64.078125 \nQ 24.65625 74.21875 41.21875 74.21875 \nQ 47.75 74.21875 53.53125 72.484375 \nQ 59.328125 70.75 64.40625 67.28125 \nz\n\" id=\"DejaVuSans-67\"/>\n     <path d=\"M 9.421875 75.984375 \nL 18.40625 75.984375 \nL 18.40625 0 \nL 9.421875 0 \nz\n\" id=\"DejaVuSans-108\"/>\n     <path d=\"M 44.28125 53.078125 \nL 44.28125 44.578125 \nQ 40.484375 46.53125 36.375 47.5 \nQ 32.28125 48.484375 27.875 48.484375 \nQ 21.1875 48.484375 17.84375 46.4375 \nQ 14.5 44.390625 14.5 40.28125 \nQ 14.5 37.15625 16.890625 35.375 \nQ 19.28125 33.59375 26.515625 31.984375 \nL 29.59375 31.296875 \nQ 39.15625 29.25 43.1875 25.515625 \nQ 47.21875 21.78125 47.21875 15.09375 \nQ 47.21875 7.46875 41.1875 3.015625 \nQ 35.15625 -1.421875 24.609375 -1.421875 \nQ 20.21875 -1.421875 15.453125 -0.5625 \nQ 10.6875 0.296875 5.421875 2 \nL 5.421875 11.28125 \nQ 10.40625 8.6875 15.234375 7.390625 \nQ 20.0625 6.109375 24.8125 6.109375 \nQ 31.15625 6.109375 34.5625 8.28125 \nQ 37.984375 10.453125 37.984375 14.40625 \nQ 37.984375 18.0625 35.515625 20.015625 \nQ 33.0625 21.96875 24.703125 23.78125 \nL 21.578125 24.515625 \nQ 13.234375 26.265625 9.515625 29.90625 \nQ 5.8125 33.546875 5.8125 39.890625 \nQ 5.8125 47.609375 11.28125 51.796875 \nQ 16.75 56 26.8125 56 \nQ 31.78125 56 36.171875 55.265625 \nQ 40.578125 54.546875 44.28125 53.078125 \nz\n\" id=\"DejaVuSans-115\"/>\n     <path d=\"M 9.8125 72.90625 \nL 19.671875 72.90625 \nL 19.671875 8.296875 \nL 55.171875 8.296875 \nL 55.171875 0 \nL 9.8125 0 \nz\n\" id=\"DejaVuSans-76\"/>\n     <path d=\"M 48.6875 27.296875 \nQ 48.6875 37.203125 44.609375 42.84375 \nQ 40.53125 48.484375 33.40625 48.484375 \nQ 26.265625 48.484375 22.1875 42.84375 \nQ 18.109375 37.203125 18.109375 27.296875 \nQ 18.109375 17.390625 22.1875 11.75 \nQ 26.265625 6.109375 33.40625 6.109375 \nQ 40.53125 6.109375 44.609375 11.75 \nQ 48.6875 17.390625 48.6875 27.296875 \nz\nM 18.109375 46.390625 \nQ 20.953125 51.265625 25.265625 53.625 \nQ 29.59375 56 35.59375 56 \nQ 45.5625 56 51.78125 48.09375 \nQ 58.015625 40.1875 58.015625 27.296875 \nQ 58.015625 14.40625 51.78125 6.484375 \nQ 45.5625 -1.421875 35.59375 -1.421875 \nQ 29.59375 -1.421875 25.265625 0.953125 \nQ 20.953125 3.328125 18.109375 8.203125 \nL 18.109375 0 \nL 9.078125 0 \nL 9.078125 75.984375 \nL 18.109375 75.984375 \nz\n\" id=\"DejaVuSans-98\"/>\n     <path d=\"M 10.59375 45.40625 \nL 73.1875 45.40625 \nL 73.1875 37.203125 \nL 10.59375 37.203125 \nz\nM 10.59375 25.484375 \nL 73.1875 25.484375 \nL 73.1875 17.1875 \nL 10.59375 17.1875 \nz\n\" id=\"DejaVuSans-61\"/>\n    </defs>\n    <g transform=\"translate(113.152187 16.318125)scale(0.12 -0.12)\">\n     <use xlink:href=\"#DejaVuSans-73\"/>\n     <use x=\"29.492188\" xlink:href=\"#DejaVuSans-109\"/>\n     <use x=\"126.904297\" xlink:href=\"#DejaVuSans-97\"/>\n     <use x=\"188.183594\" xlink:href=\"#DejaVuSans-103\"/>\n     <use x=\"251.660156\" xlink:href=\"#DejaVuSans-101\"/>\n     <use x=\"313.183594\" xlink:href=\"#DejaVuSans-32\"/>\n     <use x=\"344.970703\" xlink:href=\"#DejaVuSans-35\"/>\n     <use x=\"428.759766\" xlink:href=\"#DejaVuSans-50\"/>\n     <use x=\"492.382812\" xlink:href=\"#DejaVuSans-49\"/>\n     <use x=\"556.005859\" xlink:href=\"#DejaVuSans-55\"/>\n     <use x=\"619.628906\" xlink:href=\"#DejaVuSans-49\"/>\n     <use x=\"683.251953\" xlink:href=\"#DejaVuSans-44\"/>\n     <use x=\"715.039062\" xlink:href=\"#DejaVuSans-32\"/>\n     <use x=\"746.826172\" xlink:href=\"#DejaVuSans-67\"/>\n     <use x=\"816.650391\" xlink:href=\"#DejaVuSans-108\"/>\n     <use x=\"844.433594\" xlink:href=\"#DejaVuSans-97\"/>\n     <use x=\"905.712891\" xlink:href=\"#DejaVuSans-115\"/>\n     <use x=\"957.8125\" xlink:href=\"#DejaVuSans-115\"/>\n     <use x=\"1009.912109\" xlink:href=\"#DejaVuSans-32\"/>\n     <use x=\"1041.699219\" xlink:href=\"#DejaVuSans-76\"/>\n     <use x=\"1097.412109\" xlink:href=\"#DejaVuSans-97\"/>\n     <use x=\"1158.691406\" xlink:href=\"#DejaVuSans-98\"/>\n     <use x=\"1222.167969\" xlink:href=\"#DejaVuSans-101\"/>\n     <use x=\"1283.691406\" xlink:href=\"#DejaVuSans-108\"/>\n     <use x=\"1311.474609\" xlink:href=\"#DejaVuSans-61\"/>\n     <use x=\"1395.263672\" xlink:href=\"#DejaVuSans-53\"/>\n    </g>\n   </g>\n  </g>\n </g>\n <defs>\n  <clipPath id=\"p53bd43a996\">\n   <rect height=\"188.325\" width=\"334.8\" x=\"33.2875\" y=\"22.318125\"/>\n  </clipPath>\n </defs>\n</svg>\n",
      "image/png": "[encoded data removed]"
     },
     "metadata": {
      "needs_background": "light"
     }
    }
   ],
   "source": [
    "idx = randint(0,len(image_data))\n",
    "plt.title('Image #' + str(idx) + ', Class Label=' + str(image_labels[idx]))\n",
    "image = 255*image_data[idx]\n",
    "print(image.shape)\n",
    "plt.imshow(image)"
   ]
  },
  {
   "cell_type": "markdown",
   "metadata": {},
   "source": [
    "We use scikit-learn's \"train_test_split\" method to split our data set in to train (80%) and test (20%) sets. "
   ]
  },
  {
   "cell_type": "code",
   "execution_count": 9,
   "metadata": {
    "tags": []
   },
   "outputs": [
    {
     "output_type": "stream",
     "name": "stdout",
     "text": "1848 1848\n462 462\n"
    }
   ],
   "source": [
    "train_data, test_data, train_labels, test_labels = train_test_split(image_data, image_labels, test_size=0.2, shuffle=True, random_state=42)\n",
    "print(len(train_data),len(train_labels))\n",
    "print(len(test_data),len(test_labels))"
   ]
  },
  {
   "cell_type": "markdown",
   "metadata": {},
   "source": [
    "We concatenate the training data and test data in to a single numpy array (instead of a list of numpy arrays). The training and test data now have the dimensions (number of example, width, height, channels)"
   ]
  },
  {
   "cell_type": "code",
   "execution_count": 10,
   "metadata": {
    "tags": []
   },
   "outputs": [
    {
     "output_type": "stream",
     "name": "stdout",
     "text": "(1848, 540, 960, 3)\n(462, 540, 960, 3)\n"
    }
   ],
   "source": [
    "train_data = np.stack(train_data, axis=0)\n",
    "print(train_data.shape)\n",
    "\n",
    "test_data = np.stack(test_data, axis=0)\n",
    "print(test_data.shape)"
   ]
  },
  {
   "cell_type": "markdown",
   "metadata": {},
   "source": [
    "We normalize the data to scale from the range of (0-255) to (0-1). "
   ]
  },
  {
   "cell_type": "code",
   "execution_count": 11,
   "metadata": {
    "tags": []
   },
   "outputs": [
    {
     "output_type": "stream",
     "name": "stdout",
     "text": "Random Image Before Scaling: [123 127 127]\nRandom Image After Scaling: [0.48235294 0.49803922 0.49803922]\n"
    }
   ],
   "source": [
    "idx = randint(0,len(train_data))\n",
    "print(\"Random Image Before Scaling:\",train_data[idx][0,0,:])\n",
    "\n",
    "train_data = train_data/255.\n",
    "test_data = test_data/255.\n",
    "\n",
    "print(\"Random Image After Scaling:\",train_data[idx][0,0,:])\n"
   ]
  },
  {
   "cell_type": "markdown",
   "metadata": {},
   "source": [
    "We convert our class labels to be one-hot encoded. Alternatively, we could train the output using the estimated \"fullness\" of the coffee pot in the range of 0-1 and treat this as a regression problem."
   ]
  },
  {
   "cell_type": "code",
   "execution_count": 12,
   "metadata": {
    "tags": []
   },
   "outputs": [
    {
     "output_type": "stream",
     "name": "stdout",
     "text": "(1848, 6)\n(462, 6)\n[0. 0. 1. 0. 0. 0.]\n[0. 1. 0. 0. 0. 0.]\n"
    }
   ],
   "source": [
    "def convert_to_one_hot(Y, C):\n",
    "    Y = np.eye(C)[Y.reshape(-1)]\n",
    "    return Y\n",
    "\n",
    "\n",
    "if(is_regression):\n",
    "    train_labels = np.array(train_labels)\n",
    "    test_labels = np.array(test_labels)\n",
    "else:\n",
    "    train_labels = convert_to_one_hot(np.array(train_labels,ndmin=2),len(labels))\n",
    "    test_labels = convert_to_one_hot(np.array(test_labels,ndmin=2),len(labels))\n",
    "\n",
    "print(train_labels.shape)\n",
    "print(test_labels.shape)\n",
    "\n",
    "print(train_labels[0])\n",
    "print(test_labels[19])\n",
    "\n"
   ]
  },
  {
   "cell_type": "markdown",
   "metadata": {},
   "source": [
    "Finally we save our train and test data / labels in a single h5 file."
   ]
  },
  {
   "cell_type": "code",
   "execution_count": 13,
   "metadata": {},
   "outputs": [],
   "source": [
    "data_save_path = '../../data/coffee_video/label_data/v3'\n",
    "\n",
    "if is_regression:\n",
    "    data_set_name='coffee_regression_data_v3.h5'\n",
    "else:\n",
    "    data_set_name='coffee_class_data_v3.h5'\n"
   ]
  },
  {
   "cell_type": "code",
   "execution_count": 14,
   "metadata": {},
   "outputs": [],
   "source": [
    "filepath=os.path.join(data_save_path,data_set_name)\n",
    "\n",
    "if(os.path.exists(filepath)):\n",
    "    os.remove(filepath)\n",
    "\n",
    "if(not os.path.exists(data_save_path)):\n",
    "    os.makedirs(data_save_path)\n",
    "\n",
    "coffee_data = h5py.File(filepath,'w')\n",
    "coffee_data.create_dataset('train_data', data=train_data)\n",
    "coffee_data.create_dataset('test_data', data=test_data)\n",
    "coffee_data.create_dataset('train_labels', data=train_labels)\n",
    "coffee_data.create_dataset('test_labels', data=test_labels)\n",
    "coffee_data.close()\n"
   ]
  },
  {
   "cell_type": "code",
   "execution_count": null,
   "metadata": {},
   "outputs": [],
   "source": []
  }
 ],
 "metadata": {
  "language_info": {
   "codemirror_mode": {
    "name": "ipython",
    "version": 3
   },
   "file_extension": ".py",
   "mimetype": "text/x-python",
   "name": "python",
   "nbconvert_exporter": "python",
   "pygments_lexer": "ipython3",
   "version": "3.7.3-final"
  },
  "orig_nbformat": 2,
  "kernelspec": {
   "name": "opencv",
   "display_name": "opencv"
  }
 },
 "nbformat": 4,
 "nbformat_minor": 2
}