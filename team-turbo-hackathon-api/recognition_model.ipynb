{
 "cells": [
  {
   "cell_type": "code",
   "execution_count": 1,
   "metadata": {},
   "outputs": [],
   "source": [
    "import numpy\n",
    "import matplotlib\n",
    "import cv2\n",
    "import dlib\n",
    "import face_recognition\n",
    "from PIL import Image\n",
    "import pickle\n",
    "import os\n"
   ]
  },
  {
   "cell_type": "code",
   "execution_count": null,
   "metadata": {},
   "outputs": [],
   "source": [
    "filename = r\"C:\\Users\\MPM0528\\Projects\\Hackathon\\train_data\\m_mcguirk\\m_mcguirk1.jpg\"\n",
    "filename2 = r\"C:\\Users\\MPM0528\\Projects\\Hackathon\\train_data\\m_koch\\m_koch1.jpg\"\n",
    "filename3 = r\"C:\\Users\\MPM0528\\Projects\\Hackathon\\train_data\\m_mcguirk\\m_mcguirk2.jpg\"\n",
    "\n",
    "\n",
    "# image = Image.open(filename)\n",
    "# image=image.rotate(90, expand=True)\n",
    "# image.save(filename, \"JPEG\")\n",
    "image = face_recognition.load_image_file(filename)\n",
    "\n",
    "face_locations = face_recognition.face_locations(image)\n",
    "\n",
    "print(\"I found {} face(s) in this photograph.\".format(len(face_locations)))\n",
    "\n",
    "for face_location in face_locations:\n",
    "\n",
    "    # Print the location of each face in this image\n",
    "    top, right, bottom, left = face_location\n",
    "    print(\"A face is located at pixel location Top: {}, Left: {}, Bottom: {}, Right: {}\".format(top, left, bottom, right))\n",
    "\n",
    "    # You can access the actual face itself like this:\n",
    "    face_image = image[top:bottom, left:right]\n",
    "    pil_image = Image.fromarray(face_image)\n",
    "    pil_image.show()"
   ]
  },
  {
   "cell_type": "code",
   "execution_count": null,
   "metadata": {},
   "outputs": [],
   "source": [
    "\n",
    "\n",
    "images = [filename2, filename3]\n",
    "encodings = []\n",
    "names = [\"Matt_K\",\"Matt_M\"]\n",
    "\n",
    "for i in images:\n",
    "    img = face_recognition.load_image_file(i)\n",
    "    encoding = face_recognition.face_encodings(img)[0]\n",
    "    encodings.append(encoding)\n",
    "    \n",
    "match = face_recognition.compare_faces(encodings, false_encoding)\n",
    "\n",
    "for i in match:\n",
    "    if i == True:\n",
    "        print(names[match.index(i)])\n",
    "    "
   ]
  },
  {
   "cell_type": "markdown",
   "metadata": {},
   "source": [
    "# Logic for Encoding Database"
   ]
  },
  {
   "cell_type": "code",
   "execution_count": 15,
   "metadata": {},
   "outputs": [
    {
     "name": "stdout",
     "output_type": "stream",
     "text": [
      "./train_data\\m_koch\\MattK6.jpg\n"
     ]
    }
   ],
   "source": [
    "## get directory of training images\n",
    "train_directory = \"./train_data\"\n",
    "names = []\n",
    "encodings = []\n",
    "   \n",
    "for root, dirs, files in os.walk(train_directory):\n",
    "    for name in files:\n",
    "        img = face_recognition.load_image_file(os.path.join(root,name))\n",
    "        try:\n",
    "            encoding = face_recognition.face_encodings(img)[0]\n",
    "        except:\n",
    "            img = Image.fromarray(img)\n",
    "            img.show()\n",
    "            print(os.path.join(root,name))\n",
    "        encodings.append(encoding)\n",
    "        user = name[:-5]\n",
    "        names.append(user)\n",
    "\n",
    "        \n",
    "with open('names.pkl', 'wb') as f:\n",
    "    pickle.dump(names, f)\n",
    "    \n",
    "with open('encodings.pkl', 'wb') as f:\n",
    "    pickle.dump(encodings, f)\n",
    "\n"
   ]
  },
  {
   "cell_type": "code",
   "execution_count": null,
   "metadata": {},
   "outputs": [],
   "source": [
    "change_name = r\"C:\\Users\\MPM0528\\Projects\\Hackathon\\test_data\\c_jenson1.jpg\"\n",
    "img = Image.open(change_name)\n",
    "img=img.rotate(90, expand=True)\n",
    "img.save(change_name, \"JPEG\")\n",
    "img.show()"
   ]
  },
  {
   "cell_type": "markdown",
   "metadata": {},
   "source": [
    "# Recognition Engine"
   ]
  },
  {
   "cell_type": "code",
   "execution_count": 14,
   "metadata": {},
   "outputs": [
    {
     "data": {
      "text/plain": [
       "'MattK'"
      ]
     },
     "execution_count": 14,
     "metadata": {},
     "output_type": "execute_result"
    }
   ],
   "source": [
    "with open('names.pkl', 'rb') as f:\n",
    "    names = pickle.load(f)\n",
    "    \n",
    "with open('encodings.pkl', 'rb') as f:\n",
    "    encodings = pickle.load(f)\n",
    "\n",
    "\n",
    "\n",
    "\n",
    "def matches(shame_name):\n",
    "    with open('names.pkl', 'rb') as f:\n",
    "        names = pickle.load(f)\n",
    "    \n",
    "    with open('encodings.pkl', 'rb') as f:\n",
    "        encodings = pickle.load(f)\n",
    "    \n",
    "    shamer = face_recognition.load_image_file(shame_name)\n",
    "    try:   \n",
    "        shamer = face_recognition.face_encodings(shamer)[0]\n",
    "    except:\n",
    "        return \"Cannot find Shamer.\"\n",
    "        \n",
    "\n",
    "    match = face_recognition.compare_faces(encodings, shamer)\n",
    "\n",
    "    for i in match:\n",
    "        if i == True:\n",
    "            return names[match.index(i)]\n",
    "            \n",
    "shame_name = r\"C:\\Users\\MPM0528\\Projects\\Hackathon\\API\\monsters\\Unidentified1220190623-095514.jpg\"\n",
    "\n",
    "matches(shame_name)"
   ]
  }
 ],
 "metadata": {
  "kernelspec": {
   "display_name": "Python 3",
   "language": "python",
   "name": "python3"
  },
  "language_info": {
   "codemirror_mode": {
    "name": "ipython",
    "version": 3
   },
   "file_extension": ".py",
   "mimetype": "text/x-python",
   "name": "python",
   "nbconvert_exporter": "python",
   "pygments_lexer": "ipython3",
   "version": "3.6.8"
  }
 },
 "nbformat": 4,
 "nbformat_minor": 2
}
